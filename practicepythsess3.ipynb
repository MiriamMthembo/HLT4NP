{
 "cells": [
  {
   "cell_type": "code",
   "execution_count": 2,
   "metadata": {},
   "outputs": [
    {
     "name": "stdout",
     "output_type": "stream",
     "text": [
      "['Suzannah', 'Andy', 'Georgina', 'Satinder', 'Ruth', 'Irina', 'Natasha', 'Alison']\n",
      "[1, 'Hello', 2.4, 'Now']\n"
     ]
    }
   ],
   "source": [
    "empty_list = [1, \"Hello\", 2.4, \"Now\"]\n",
    "my_1d_list = [\"Suzannah\", \"Andy\", \"Georgina\", \"Satinder\", \"Ruth\", \"Irina\", \"Natasha\", \"Alison\", ]\n",
    "print (my_1d_list) \n",
    "print(empty_list)"
   ]
  },
  {
   "cell_type": "code",
   "execution_count": 3,
   "metadata": {},
   "outputs": [
    {
     "data": {
      "text/plain": [
       "'Ruth'"
      ]
     },
     "execution_count": 3,
     "metadata": {},
     "output_type": "execute_result"
    }
   ],
   "source": [
    "my_1d_list[4]"
   ]
  },
  {
   "cell_type": "code",
   "execution_count": 4,
   "metadata": {},
   "outputs": [
    {
     "name": "stdout",
     "output_type": "stream",
     "text": [
      "The data at index location 0 is: Suzannah\n",
      "The data at index location 1 is: Andy\n",
      "The data at index location 2 is: Georgina\n",
      "The data at index location 3 is: Satinder\n",
      "The data at index location 4 is: Ruth\n",
      "The data at index location 5 is: Irina\n",
      "The data at index location 6 is: Natasha\n",
      "The data at index location 7 is: Alison\n"
     ]
    }
   ],
   "source": [
    "for i in range(len(my_1d_list)):\n",
    "    print(\"The data at index location\", i, \"is:\", my_1d_list[i])"
   ]
  },
  {
   "cell_type": "code",
   "execution_count": 5,
   "metadata": {},
   "outputs": [
    {
     "name": "stdout",
     "output_type": "stream",
     "text": [
      "8\n"
     ]
    }
   ],
   "source": [
    "print(len(my_1d_list))"
   ]
  },
  {
   "cell_type": "code",
   "execution_count": 6,
   "metadata": {},
   "outputs": [
    {
     "data": {
      "text/plain": [
       "['Andy', 'Georgina', 'Satinder', 'Ruth']"
      ]
     },
     "execution_count": 6,
     "metadata": {},
     "output_type": "execute_result"
    }
   ],
   "source": [
    "my_1d_list[1:5]"
   ]
  },
  {
   "cell_type": "code",
   "execution_count": 7,
   "metadata": {},
   "outputs": [
    {
     "data": {
      "text/plain": [
       "[[1, 2, 3, 4], [5, 6, 7, 8], [9, 10, 11, 12]]"
      ]
     },
     "execution_count": 7,
     "metadata": {},
     "output_type": "execute_result"
    }
   ],
   "source": [
    "my_2d_list = [[1,2,3,4], [5,6,7,8], [9,10,11,12]]\n",
    "my_2d_list"
   ]
  },
  {
   "cell_type": "code",
   "execution_count": 10,
   "metadata": {},
   "outputs": [],
   "source": [
    "my_file = open(\"my_new_text_file.txt\", \"w\")\n",
    "\n",
    "for i in range(10):\n",
    "    my_file.write(str(i))\n",
    "    my_file.write(\"\\n\")\n",
    "\n",
    "\n"
   ]
  },
  {
   "cell_type": "code",
   "execution_count": 15,
   "metadata": {},
   "outputs": [
    {
     "name": "stdout",
     "output_type": "stream",
     "text": [
      "<_io.TextIOWrapper name='my_new_text_file.txt' mode='r' encoding='cp1252'>\n"
     ]
    }
   ],
   "source": [
    "my_file = open(\"my_new_text_file.txt\", \"r\")\n",
    "print(my_file)"
   ]
  },
  {
   "cell_type": "code",
   "execution_count": 16,
   "metadata": {},
   "outputs": [],
   "source": [
    "import pandas as pd"
   ]
  },
  {
   "cell_type": "code",
   "execution_count": 17,
   "metadata": {},
   "outputs": [
    {
     "name": "stdout",
     "output_type": "stream",
     "text": [
      "0            439\n",
      "1          98.54\n",
      "2    Hello World\n",
      "3     Sea Breeze\n",
      "4           -342\n",
      "dtype: object\n",
      "[439, 98.54, 'Hello World', 'Sea Breeze', -342]\n"
     ]
    }
   ],
   "source": [
    "# setup a one dimensional array-like object\n",
    "# The word Series must start with a capital letter otherwise you get a syntax error\n",
    "\n",
    "\n",
    "myseries = pd.Series([439, 98.54, 'Hello World', 'Sea Breeze', -342])\n",
    "mylist = [439, 98.54, 'Hello World', 'Sea Breeze', -342]\n",
    "\n",
    "# print the data in series\n",
    "print(myseries)\n",
    "print(mylist)\n",
    "\n",
    "# when the data is printed what do you notice?"
   ]
  },
  {
   "cell_type": "code",
   "execution_count": 18,
   "metadata": {},
   "outputs": [
    {
     "name": "stdout",
     "output_type": "stream",
     "text": [
      "{'Name': ['Alex', 'Mimi', 'Maka', 'Nyasha'], 'Age': [46, 44, 10, 4], 'Genda': ['Male', 'Female', 'Female', 'Female'], 'Height': [180, 156, 145, 98]}\n",
      "     Name  Age   Genda  Height\n",
      "0    Alex   46    Male     180\n",
      "1    Mimi   44  Female     156\n",
      "2    Maka   10  Female     145\n",
      "3  Nyasha    4  Female      98\n"
     ]
    }
   ],
   "source": [
    "inventory = {\"Name\": [\"Alex\", \"Mimi\", \"Maka\", \"Nyasha\"],\n",
    "             \"Age\": [46, 44, 10, 4],\n",
    "             \"Genda\":[\"Male\", \"Female\", \"Female\", \"Female\"],\n",
    "             \"Height\": [180, 156, 145, 98]}\n",
    "\n",
    "print(inventory)\n",
    "\n",
    "myframe = pd.DataFrame(inventory)\n",
    "\n",
    "print(myframe)\n"
   ]
  },
  {
   "cell_type": "code",
   "execution_count": 19,
   "metadata": {},
   "outputs": [
    {
     "name": "stdout",
     "output_type": "stream",
     "text": [
      "      Name  Age   Genda  Height\n",
      "AL    Alex   46    Male     180\n",
      "MI    Mimi   44  Female     156\n",
      "MA    Maka   10  Female     145\n",
      "NY  Nyasha    4  Female      98\n"
     ]
    }
   ],
   "source": [
    "myframe.index = [\"AL\", \"MI\", \"MA\", \"NY\"]\n",
    "print(myframe)"
   ]
  },
  {
   "cell_type": "code",
   "execution_count": 34,
   "metadata": {},
   "outputs": [],
   "source": [
    "fh = open(\"demo.txt\", \"a\")\n",
    "\n",
    "for i in range(10):\n",
    "    fh.write(\"this is line no %d\\n\" % (i+1))\n",
    "\n",
    "fh.close()\n",
    "\n",
    " \n",
    "\n"
   ]
  },
  {
   "cell_type": "code",
   "execution_count": 35,
   "metadata": {},
   "outputs": [],
   "source": [
    "with open(\"demo.txt\", \"a\") as fh:\n",
    "    for i in range(10):\n",
    "        fh.write(\"this is line no %d\\n\" %(i +1))"
   ]
  },
  {
   "cell_type": "code",
   "execution_count": 39,
   "metadata": {},
   "outputs": [],
   "source": [
    "my_file = open(\"data_peeps.txt\", \"w\")\n",
    "\n",
    "for i in range(10):\n",
    "    my_file.write(str(i))\n",
    "    my_file.write(\"\\n\")\n",
    "\n",
    "my_file.close()\n"
   ]
  },
  {
   "cell_type": "code",
   "execution_count": 94,
   "metadata": {},
   "outputs": [],
   "source": [
    "with open(\"Numbers.txt\", \"w\") as mf:\n",
    "    mf.write(\"3, 45, 83, 21\")\n",
    "    mf.write(\"\\n\")  \n",
    "  "
   ]
  },
  {
   "cell_type": "code",
   "execution_count": 95,
   "metadata": {},
   "outputs": [],
   "source": [
    "with open(\"Numbers.txt\", \"a\") as mf:\n",
    "    mf.write(\"3, 45, 83, 21\")\n",
    "    "
   ]
  },
  {
   "cell_type": "code",
   "execution_count": 96,
   "metadata": {},
   "outputs": [
    {
     "name": "stdout",
     "output_type": "stream",
     "text": [
      "3, 45, 83, 21\n",
      "3, 45, 83, 21\n"
     ]
    }
   ],
   "source": [
    "with open(\"Numbers.txt\", \"r\") as mf:\n",
    "   x = mf.read()\n",
    "   print(x)\n",
    "print(list)   \n"
   ]
  },
  {
   "cell_type": "code",
   "execution_count": 86,
   "metadata": {},
   "outputs": [
    {
     "name": "stdout",
     "output_type": "stream",
     "text": [
      "You have passed:  54 Grade:C\n"
     ]
    }
   ],
   "source": [
    "score = int(input())\n",
    "if(score >= 70 and score <= 100):\n",
    "    print(\"You have excelled: \", score, \"Grade:A\")\n",
    "elif(score >=60 and  score < 70):\n",
    "    print(\"Welldone: \", score, \"Grade:B\")\n",
    "elif(score >=50 and score < 60):\n",
    "    print(\"You have passed: \", score, \"Grade:C\")\n",
    "else:\n",
    "    print(\"You have failed\")     "
   ]
  },
  {
   "cell_type": "code",
   "execution_count": 93,
   "metadata": {},
   "outputs": [
    {
     "name": "stdout",
     "output_type": "stream",
     "text": [
      "You have excelled\n"
     ]
    }
   ],
   "source": [
    "target_grade = input()\n",
    "exam_grade = input()\n",
    "if (target_grade > exam_grade):\n",
    "    print(\"Try again\")\n",
    "elif(target_grade == exam_grade):\n",
    "    print(\"Welldone\")\n",
    "else:\n",
    "    print(\"You have excelled\") \n"
   ]
  },
  {
   "cell_type": "code",
   "execution_count": 102,
   "metadata": {},
   "outputs": [
    {
     "name": "stdout",
     "output_type": "stream",
     "text": [
      "0    3\n",
      "1    5\n",
      "2    7\n",
      "3    9\n",
      "dtype: int64\n"
     ]
    }
   ],
   "source": [
    "mf = pd.Series([3,5,7,9])\n",
    "\n",
    "print(mf)\n"
   ]
  },
  {
   "cell_type": "code",
   "execution_count": null,
   "metadata": {},
   "outputs": [],
   "source": []
  },
  {
   "cell_type": "code",
   "execution_count": null,
   "metadata": {},
   "outputs": [],
   "source": []
  },
  {
   "cell_type": "code",
   "execution_count": 110,
   "metadata": {},
   "outputs": [
    {
     "name": "stdout",
     "output_type": "stream",
     "text": [
      "[2 3 4 5 8]\n"
     ]
    }
   ],
   "source": [
    "import numpy as np\n",
    "\n",
    "ar = np.array([2, 3, 4, 5,8])\n",
    "print(ar)"
   ]
  },
  {
   "cell_type": "code",
   "execution_count": 111,
   "metadata": {},
   "outputs": [
    {
     "name": "stdout",
     "output_type": "stream",
     "text": [
      "[0 1 2 3 4 5 6 7 8 9]\n"
     ]
    }
   ],
   "source": [
    "pr = np.arange(0,10)\n",
    "print(pr)"
   ]
  },
  {
   "cell_type": "code",
   "execution_count": 112,
   "metadata": {},
   "outputs": [
    {
     "name": "stdout",
     "output_type": "stream",
     "text": [
      "[0 1 2 3 4 5 6 7 8 9]\n"
     ]
    }
   ],
   "source": [
    "ar_to_nine = np.arange(10)\n",
    "print(ar_to_nine)"
   ]
  }
 ],
 "metadata": {
  "interpreter": {
   "hash": "a279d75de1c7fb928deda8b1d3281825c2cb9115f57e6cac24c2c042a4ba9ce4"
  },
  "kernelspec": {
   "display_name": "Python 3.10.2 64-bit",
   "language": "python",
   "name": "python3"
  },
  "language_info": {
   "codemirror_mode": {
    "name": "ipython",
    "version": 3
   },
   "file_extension": ".py",
   "mimetype": "text/x-python",
   "name": "python",
   "nbconvert_exporter": "python",
   "pygments_lexer": "ipython3",
   "version": "3.10.2"
  },
  "orig_nbformat": 4
 },
 "nbformat": 4,
 "nbformat_minor": 2
}
